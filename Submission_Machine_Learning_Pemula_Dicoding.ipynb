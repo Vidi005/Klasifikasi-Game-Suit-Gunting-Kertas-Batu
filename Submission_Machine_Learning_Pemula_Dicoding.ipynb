{
  "nbformat": 4,
  "nbformat_minor": 0,
  "metadata": {
    "colab": {
      "name": "Submission Machine Learning Pemula Dicoding.ipynb",
      "provenance": [],
      "collapsed_sections": [],
      "toc_visible": true,
      "authorship_tag": "ABX9TyNZAHZlbdKHVQzEBKIrqcxH",
      "include_colab_link": true
    },
    "kernelspec": {
      "name": "python3",
      "display_name": "Python 3"
    },
    "accelerator": "GPU"
  },
  "cells": [
    {
      "cell_type": "markdown",
      "metadata": {
        "id": "view-in-github",
        "colab_type": "text"
      },
      "source": [
        "<a href=\"https://colab.research.google.com/github/Vidi005/Klasifikasi-Game-Suit-Gunting-Kertas-Batu/blob/master/Submission_Machine_Learning_Pemula_Dicoding.ipynb\" target=\"_parent\"><img src=\"https://colab.research.google.com/assets/colab-badge.svg\" alt=\"Open In Colab\"/></a>"
      ]
    },
    {
      "cell_type": "markdown",
      "metadata": {
        "id": "2DLJaX8AKcUG",
        "colab_type": "text"
      },
      "source": [
        "# Klasifikasi Tangan Membentuk Gunting, Kertas, dan Batu"
      ]
    },
    {
      "cell_type": "markdown",
      "metadata": {
        "id": "ci_hTaXs5DdN",
        "colab_type": "text"
      },
      "source": [
        "Program untuk mengenali bentuk jari tangan yang membentuk gunting, kertas, atau batu.\n",
        "<br>\n",
        "Program ini dibuat menggunakan CNN dengan library Keras dan backend TensorFlow.\n"
      ]
    },
    {
      "cell_type": "markdown",
      "metadata": {
        "id": "JGAv3rYEKywk",
        "colab_type": "text"
      },
      "source": [
        "## Import Libraries"
      ]
    },
    {
      "cell_type": "code",
      "metadata": {
        "id": "6-BoTilnKfLp",
        "colab_type": "code",
        "colab": {
          "base_uri": "https://localhost:8080/",
          "height": 190
        },
        "outputId": "2b342a27-5571-457a-befd-d915da0185ab"
      },
      "source": [
        "import tensorflow as tf\n",
        "from tensorflow.keras.preprocessing.image import ImageDataGenerator\n",
        "from sklearn.model_selection import train_test_split\n",
        "from skimage.io import imread\n",
        "import matplotlib.pyplot as plt\n",
        "from tensorflow.keras.callbacks import EarlyStopping\n",
        "\n",
        "# Mengihitung waktu lamanya eksekusi tiap sel di Google Colab\n",
        "!pip install ipython-autotime\n",
        "\n",
        "%load_ext autotime"
      ],
      "execution_count": 1,
      "outputs": [
        {
          "output_type": "stream",
          "text": [
            "Collecting ipython-autotime\n",
            "  Downloading https://files.pythonhosted.org/packages/e6/f9/0626bbdb322e3a078d968e87e3b01341e7890544de891d0cb613641220e6/ipython-autotime-0.1.tar.bz2\n",
            "Building wheels for collected packages: ipython-autotime\n",
            "  Building wheel for ipython-autotime (setup.py) ... \u001b[?25l\u001b[?25hdone\n",
            "  Created wheel for ipython-autotime: filename=ipython_autotime-0.1-cp36-none-any.whl size=1832 sha256=de0c9d3dc0b2dd91e088724826f9c117134fe9084d7cadaa0ac55c303115cab4\n",
            "  Stored in directory: /root/.cache/pip/wheels/d2/df/81/2db1e54bc91002cec40334629bc39cfa86dff540b304ebcd6e\n",
            "Successfully built ipython-autotime\n",
            "Installing collected packages: ipython-autotime\n",
            "Successfully installed ipython-autotime-0.1\n"
          ],
          "name": "stdout"
        }
      ]
    },
    {
      "cell_type": "markdown",
      "metadata": {
        "id": "VWgmmIhlK4el",
        "colab_type": "text"
      },
      "source": [
        "### Checking Tensorflow Version"
      ]
    },
    {
      "cell_type": "code",
      "metadata": {
        "id": "sH2K7J21Kv8q",
        "colab_type": "code",
        "colab": {
          "base_uri": "https://localhost:8080/",
          "height": 51
        },
        "outputId": "133fc642-5bcf-4075-da72-88e2d68077ce"
      },
      "source": [
        "print(tf.__version__)"
      ],
      "execution_count": 2,
      "outputs": [
        {
          "output_type": "stream",
          "text": [
            "2.2.0\n",
            "time: 2.72 ms\n"
          ],
          "name": "stdout"
        }
      ]
    },
    {
      "cell_type": "markdown",
      "metadata": {
        "id": "t4xw4ICwK-MM",
        "colab_type": "text"
      },
      "source": [
        "## Preprocessing Datasets"
      ]
    },
    {
      "cell_type": "markdown",
      "metadata": {
        "id": "rV1uUeVq6dWO",
        "colab_type": "text"
      },
      "source": [
        "Mengunduh dataset rockpaperscissors dan menyimpannya di penyimpanan sementara pada Google Colab di dalam direktori \"content\".\n",
        "(Dataset yang digunakan berlatar belakang warna hijau)."
      ]
    },
    {
      "cell_type": "code",
      "metadata": {
        "id": "8L0UbMlbLKja",
        "colab_type": "code",
        "colab": {
          "base_uri": "https://localhost:8080/",
          "height": 185
        },
        "outputId": "99494d6a-5766-439e-b813-9c97196adc82"
      },
      "source": [
        "!wget --no-check-certificate \\\n",
        "  https://dicodingacademy.blob.core.windows.net/picodiploma/ml_pemula_academy/rockpaperscissors.zip \\\n",
        "  -O /content/rockpaperscissors.zip"
      ],
      "execution_count": null,
      "outputs": [
        {
          "output_type": "stream",
          "text": [
            "--2020-07-18 13:40:53--  https://dicodingacademy.blob.core.windows.net/picodiploma/ml_pemula_academy/rockpaperscissors.zip\n",
            "Resolving dicodingacademy.blob.core.windows.net (dicodingacademy.blob.core.windows.net)... 52.239.197.36\n",
            "Connecting to dicodingacademy.blob.core.windows.net (dicodingacademy.blob.core.windows.net)|52.239.197.36|:443... connected.\n",
            "HTTP request sent, awaiting response... 200 OK\n",
            "Length: 322873683 (308M) [application/zip]\n",
            "Saving to: ‘/content/rockpaperscissors.zip’\n",
            "\n",
            "rockpaperscissors.z   2%[                    ]   6.20M  67.2KB/s    eta 76m 49s"
          ],
          "name": "stdout"
        }
      ]
    },
    {
      "cell_type": "markdown",
      "metadata": {
        "id": "fx4kOLNv6zzj",
        "colab_type": "text"
      },
      "source": [
        "Extracting datasets into \"datasets\" directory."
      ]
    },
    {
      "cell_type": "code",
      "metadata": {
        "id": "WJ74C8IULSxw",
        "colab_type": "code",
        "colab": {}
      },
      "source": [
        "# melakukan ekstraksi pada file zip\n",
        "import zipfile,os\n",
        "local_zip = \"rockpaperscissors.zip\"\n",
        "zip_ref = zipfile.ZipFile(local_zip, \"r\")\n",
        "zip_ref.extractall(\"/content/datasets\")\n",
        "zip_ref.close()"
      ],
      "execution_count": null,
      "outputs": []
    },
    {
      "cell_type": "markdown",
      "metadata": {
        "id": "vEb2fizTLlUl",
        "colab_type": "text"
      },
      "source": [
        "### Visualizing one of picture for each class"
      ]
    },
    {
      "cell_type": "code",
      "metadata": {
        "id": "y5D4KbaG9VhE",
        "colab_type": "code",
        "colab": {}
      },
      "source": [
        "# Perintah untuk memvisualisasikan satu gambar dari dataset\n",
        "# kertas\n",
        "image = imread(\"datasets/rockpaperscissors/rps-cv-images/paper/0a3UtNzl5Ll3sq8K.png\")\n",
        "plt.figure(figsize=(3,3))\n",
        "plt.imshow(image)\n",
        "# batu\n",
        "image = imread(\"datasets/rockpaperscissors/rps-cv-images/rock/00nKV8oHuTGi20gq.png\")\n",
        "plt.figure(figsize=(3,3))\n",
        "plt.imshow(image)\n",
        "# gunting\n",
        "image = imread(\"datasets/rockpaperscissors/rps-cv-images/scissors/0CSaM2vL2cWX6Cay.png\")\n",
        "plt.figure(figsize=(3,3))\n",
        "plt.imshow(image)"
      ],
      "execution_count": null,
      "outputs": []
    },
    {
      "cell_type": "markdown",
      "metadata": {
        "id": "Xob_vGXmATsk",
        "colab_type": "text"
      },
      "source": [
        "### Creating Object ImageDataGenerator & Data Augmentation"
      ]
    },
    {
      "cell_type": "markdown",
      "metadata": {
        "id": "tS3FHiDLAzhs",
        "colab_type": "text"
      },
      "source": [
        "Membuat obyek gambar *dataset* dengan **ImageDataGenerator**, Autmentasi *dataset*, dan Membagi *dataset* validasi (*validation*) sebesar 40% dan *dataset* pelatihan (*training*) sebesar 60%."
      ]
    },
    {
      "cell_type": "code",
      "metadata": {
        "id": "5SxTqkSVASqS",
        "colab_type": "code",
        "colab": {}
      },
      "source": [
        "datagen = tf.keras.preprocessing.image.ImageDataGenerator(\n",
        "    rescale=1./255, \n",
        "    validation_split = 0.4,\n",
        "    rotation_range = 20,\n",
        "    horizontal_flip = True,\n",
        "    shear_range = 0.2,\n",
        "    zoom_range = 0.2,    \n",
        "    vertical_flip = True,\n",
        "    fill_mode = \"nearest\")"
      ],
      "execution_count": null,
      "outputs": []
    },
    {
      "cell_type": "markdown",
      "metadata": {
        "id": "Hu-xkw6nApAb",
        "colab_type": "text"
      },
      "source": [
        "### Using ImageDataGenerator Object"
      ]
    },
    {
      "cell_type": "markdown",
      "metadata": {
        "id": "7i8NCJjmBacy",
        "colab_type": "text"
      },
      "source": [
        "Menggunakan obyek **ImageDataGenerator** yang sudah dibuat"
      ]
    },
    {
      "cell_type": "code",
      "metadata": {
        "id": "Qh0gDSrb99c9",
        "colab_type": "code",
        "colab": {}
      },
      "source": [
        "#Memuat dataset pelatihan & validasi\n",
        "base_dir = os.path.join(\"datasets/rockpaperscissors/rps-cv-images\")\n",
        "\n",
        "img_size = 150\n",
        "batch_size = 64\n",
        "\n",
        "train_generator = datagen.flow_from_directory(\n",
        "    base_dir,\n",
        "    target_size=(img_size, img_size),\n",
        "    batch_size=batch_size, \n",
        "    subset='training',\n",
        "    class_mode= 'categorical')\n",
        "\n",
        "val_generator = datagen.flow_from_directory(\n",
        "    base_dir,\n",
        "    target_size=(img_size, img_size),\n",
        "    batch_size=batch_size, \n",
        "    subset='validation',\n",
        "    class_mode= 'categorical')\n",
        "\n",
        "#Menampilkan bentuk dari masing-masing dataset\n",
        "for image_batch, label_batch in train_generator:\n",
        "  break\n",
        "print(\"Bentuk array dari dataset train (pelatihan) adalah:\", image_batch.shape,label_batch.shape)\n",
        "for image_batch, label_batch in val_generator:\n",
        "  break\n",
        "print(\"Bentuk array dari dataset validation (validasi) adalah:\", image_batch.shape,label_batch.shape)"
      ],
      "execution_count": null,
      "outputs": []
    },
    {
      "cell_type": "markdown",
      "metadata": {
        "id": "6Y_o2Nj4OZsX",
        "colab_type": "text"
      },
      "source": [
        "## Developing CNN Architecture (Creating Model)"
      ]
    },
    {
      "cell_type": "markdown",
      "metadata": {
        "id": "psBa5B6Lt87z",
        "colab_type": "text"
      },
      "source": [
        "Membuat arsitektur CNN mulai dari  Lapisan Masukkan (*Input Layer*), Lapisan Konvolusi (*Convolution Layer*), Lapisan aktivasi (*Activation Layer*), *Pooling Layer*, sampai Lapisan terhubung erat (*Fully Connected Layer/Densely Connected Layer*)."
      ]
    },
    {
      "cell_type": "code",
      "metadata": {
        "id": "ngukiXS_Og34",
        "colab_type": "code",
        "colab": {}
      },
      "source": [
        "model = tf.keras.models.Sequential([\n",
        "    tf.keras.layers.Conv2D(32, (3,3), activation=\"relu\", input_shape=(150, 150, 3), padding = \"same\"),\n",
        "    tf.keras.layers.MaxPooling2D(2, 2),\n",
        "    tf.keras.layers.Conv2D(64, (3,3), activation=\"relu\"),\n",
        "    tf.keras.layers.MaxPooling2D(2,2),\n",
        "    tf.keras.layers.Conv2D(128, (3,3), activation=\"relu\"),\n",
        "    tf.keras.layers.MaxPooling2D(2,2),\n",
        "    tf.keras.layers.Conv2D(128, (3,3), activation=\"relu\"),\n",
        "    tf.keras.layers.Conv2D(32, 3, activation=\"relu\"),\n",
        "    tf.keras.layers.Dropout(0.2),\n",
        "    tf.keras.layers.GlobalAveragePooling2D(),\n",
        "    tf.keras.layers.Dense(3, activation=\"softmax\")\n",
        "])"
      ],
      "execution_count": null,
      "outputs": []
    },
    {
      "cell_type": "markdown",
      "metadata": {
        "id": "cAPDwATDRaRX",
        "colab_type": "text"
      },
      "source": [
        "### Compiling Model"
      ]
    },
    {
      "cell_type": "code",
      "metadata": {
        "id": "SiSxlHkPRdwK",
        "colab_type": "code",
        "colab": {}
      },
      "source": [
        "model.compile(\"adam\",loss=\"categorical_crossentropy\",metrics=[\"acc\"])\n",
        "model.summary()"
      ],
      "execution_count": null,
      "outputs": []
    },
    {
      "cell_type": "markdown",
      "metadata": {
        "id": "hiSlAvoVRqpd",
        "colab_type": "text"
      },
      "source": [
        "### Training Model"
      ]
    },
    {
      "cell_type": "markdown",
      "metadata": {
        "id": "2iUewM3hslFR",
        "colab_type": "text"
      },
      "source": [
        "Melatih model dari arsitektur CNN yang telah dibuat. Pada program ini dibuat sebanyak 75 epoch, namun jika *error/loss* pada *validation* sudah semakin kecil dan tidak adanya penurunan sebanyak 7 kali dan/atau di bawah 0,09 sebelum *epoch* ke 100 maka akan berhenti di *epoch* tersebut."
      ]
    },
    {
      "cell_type": "code",
      "metadata": {
        "id": "BSjegd5gRtKj",
        "colab_type": "code",
        "colab": {}
      },
      "source": [
        "es = EarlyStopping(monitor = \"val_loss\", patience = 7, verbose = 1, min_delta = 0.09, mode = \"auto\")\n",
        "history = model.fit(train_generator, \n",
        "                    epochs = 75, \n",
        "                    callbacks = [es],\n",
        "                    validation_data = val_generator)"
      ],
      "execution_count": null,
      "outputs": []
    },
    {
      "cell_type": "markdown",
      "metadata": {
        "id": "nLckoE-zed4G",
        "colab_type": "text"
      },
      "source": [
        "### Visualization Performance of Training Model Result"
      ]
    },
    {
      "cell_type": "markdown",
      "metadata": {
        "id": "xkJJ5aXmsWk0",
        "colab_type": "text"
      },
      "source": [
        "Menampilkan grafik model hasil pelathiannya pada setiap *epoch*."
      ]
    },
    {
      "cell_type": "code",
      "metadata": {
        "id": "QilOpzSdejuj",
        "colab_type": "code",
        "colab": {}
      },
      "source": [
        "fig = plt.figure(figsize=(7, 4))\n",
        "fig.set_figheight(10)\n",
        "fig.set_figwidth(15)\n",
        "\n",
        "plt.subplot(2, 2, 1)\n",
        "plt.plot(history.history[\"acc\"],label = \"Training Accuracy\")\n",
        "plt.plot(history.history[\"val_acc\"],label = \"Validation Accuracy\")\n",
        "plt.legend()\n",
        "plt.title(\"Kurva Tingkat Akurasi\", size=15)\n",
        "plt.grid(zorder = 0)\n",
        "\n",
        "plt.subplot(2, 2, 2)\n",
        "plt.plot(history.history[\"loss\"],label = \"Training Loss\")\n",
        "plt.plot(history.history[\"val_loss\"],label = \"Validation Loss\")\n",
        "plt.legend()\n",
        "plt.title(\"Kurva Tingkat Error\", size=15)\n",
        "plt.grid(zorder = 0)\n",
        "plt.show()"
      ],
      "execution_count": null,
      "outputs": []
    },
    {
      "cell_type": "markdown",
      "metadata": {
        "id": "2Z7PdIeqSYZm",
        "colab_type": "text"
      },
      "source": [
        "## Prediction from Image Files"
      ]
    },
    {
      "cell_type": "markdown",
      "metadata": {
        "id": "AjvZNmZEsDBW",
        "colab_type": "text"
      },
      "source": [
        "Menguji hasil prediksi gambar yang diupload terhadap model hasil pelatihannya."
      ]
    },
    {
      "cell_type": "code",
      "metadata": {
        "id": "U7tI77rpSbWU",
        "colab_type": "code",
        "colab": {}
      },
      "source": [
        "import numpy as np\n",
        "import matplotlib.image as mpimg\n",
        "from google.colab import files\n",
        "from keras.preprocessing import image\n",
        "import matplotlib.pyplot as plt\n",
        "%matplotlib inline\n",
        "from keras.preprocessing.image import img_to_array, array_to_img\n",
        "\n",
        "uploaded = files.upload()\n",
        "\n",
        "for fn in uploaded.keys():\n",
        "\n",
        "  path = fn\n",
        "  img = image.load_img(path, target_size=(150,150))\n",
        "  imgplot = plt.imshow(img)\n",
        "  x = image.img_to_array(img)\n",
        "  x = np.expand_dims(x, axis=0)\n",
        "\n",
        "  images = np.vstack([x])\n",
        "  classes = model.predict(images, batch_size=10)\n",
        "  result = np.argmax(classes, axis=1)\n",
        "  \n",
        "  print(fn)\n",
        "  print(\"Bentuk array hasil prediksi:\", classes)\n",
        "  if result[0]==0:\n",
        "    print(\"Prediksi: paper\")\n",
        "  elif result[0]==1:\n",
        "    print(\"Prediksi: rock\")\n",
        "  else:\n",
        "    print(\"Prediksi: scissors\")"
      ],
      "execution_count": null,
      "outputs": []
    }
  ]
}